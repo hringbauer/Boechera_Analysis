{
 "cells": [
  {
   "cell_type": "markdown",
   "metadata": {},
   "source": [
    "# Test theory about number of recombination events\n",
    "Simulate data, compare it to theory\n",
    "\n",
    "## Problem: Selfing implies that neighboring recombination events are not completely independent anymore: I.e. recombination rates depend on the overall history of the block.\n",
    "For instance, by chance highly selfing lineages can be a problem."
   ]
  },
  {
   "cell_type": "code",
   "execution_count": 104,
   "metadata": {},
   "outputs": [],
   "source": [
    "import numpy as np\n",
    "import matplotlib.pyplot as plt"
   ]
  },
  {
   "cell_type": "code",
   "execution_count": 131,
   "metadata": {},
   "outputs": [],
   "source": [
    "def create_recs(l):\n",
    "    \"\"\"l: Length of Chromosome [in Morgan]\n",
    "    Do recombination events for length l\"\"\"\n",
    "    # Draw Number of Recombination events:\n",
    "    k = np.random.poisson(lam=l)\n",
    "\n",
    "    # Do their Distribution\n",
    "    recs = l * np.random.random(size=k)\n",
    "    return recs\n",
    "\n",
    "def sim_recomb(l, s, t):\n",
    "    \"\"\"\n",
    "    l: Length of the Chromosome [in Morgan]\n",
    "    s: Selfing Rate: 0-1.\n",
    "    t: Time [in Generations]\n",
    "    Simulate Recombination events. Return sorted list of the effective recombination events\"\"\"\n",
    "    t=t+1\n",
    "    ocs = (np.random.random(size=t) > s)   # Pick up where outcrossing events occur.\n",
    "    \n",
    "    final_recs = np.array([], dtype = np.float)       # Final Recombination Events. Initialize empty.\n",
    "    recs = np.array([], dtype = np.float)  # Current Recombination Events. Initialize empty.\n",
    "    \n",
    "    # Run through time, swithch if outcrossing or inbreeding\n",
    "    for i in range(t):\n",
    "        # Heal Recombination Events\n",
    "        if ocs[i] == False:   # In case of selfing\n",
    "            k = len(recs)\n",
    "            healing = (np.random.random(size=k)>0.5)   # Draw where not healed.\n",
    "            recs = recs[healing] # Heal where needed.\n",
    "            \n",
    "            # Do the new Recombination:\n",
    "            new_recs = create_recs(l)\n",
    "            recs = np.concatenate((recs, new_recs))\n",
    "            \n",
    "        # Create them\n",
    "        else:\n",
    "            # In Case of outcrossing:\n",
    "            final_recs = np.concatenate((final_recs, recs)) # Appends the Final Recombination Events \n",
    "            recs = create_recs(l)   # Create the new recombination events!\n",
    "            \n",
    "    #final_recs = np.concatenate((final_recs, recs))\n",
    "    final_recs = np.concatenate(([0], final_recs, [l]))\n",
    "    final_recs = np.sort(final_recs)   # Do the final Sorting\n",
    "    return final_recs\n",
    "\n",
    "###########################################################\n",
    "###########################################################\n",
    "\n",
    "def post_process_recomb_list(rec_list, bins):\n",
    "    \"\"\"Return Nr or blocks in the bins.\n",
    "    \n",
    "    rec_list: array-like, sorted list of recombination events\n",
    "    bins: array-like, sorted list of bins\n",
    "    Everything measured in Morgan!\"\"\"\n",
    "    bl_lengths = rec_list[1:] - rec_list[:-1]  # Calculate the Block Lengths\n",
    "    \n",
    "    # Sort the blocks into the bins:\n",
    "    counts, _ = np.histogram(bl_lengths, bins=bins)\n",
    "    return counts\n",
    "\n",
    "\n",
    "def replicate_statistics(l, s, t, nr_reps, bins, nr_cores=0):\n",
    "    \"\"\"Run many replicates of Recombinations along a lineage.\n",
    "    Return average count in bins\n",
    "    nr_reps: How many replicates to run.\n",
    "    bins: Array of floats. Which bins delitations to use.\n",
    "    l: Length of the Chromosome [in Morgan]\n",
    "    s: Selfing Rate: 0-1.\n",
    "    t: Time [in Generations]\n",
    "    nr_cores: For replication (IMPLEMENT LATER IF NEEDED.)\n",
    "    \"\"\"\n",
    "    counts = np.zeros(len(bins)-1, dtype = \"int\")\n",
    "    \n",
    "    for _ in range(nr_reps):\n",
    "        rec_list = sim_recomb(l, s, t)\n",
    "        #rec_list = np.concatenate(())\n",
    "        counts += post_process_recomb_list(rec_list, bins)\n",
    "        \n",
    "    return counts/nr_reps\n",
    "\n",
    "###########################################################\n",
    "###########################################################\n",
    "# Do the theory predictions\n",
    "\n",
    "def blocks_predicted(func, bins, t, s, chr_len=1):\n",
    "    \"\"\"Give the Nr of predicted Blocks.\n",
    "    func: The used function - pointer to the function\n",
    "    chr_length: Length of the whole chromosome in Morgan\"\"\"\n",
    "    \n",
    "    mid_bins = (bins[1:] + bins[:-1]) / 2.0\n",
    "    bin_widths = (bins[1:] - bins[:-1])\n",
    "    \n",
    "    exp_shr = func(mid_bins, t, s, chr_len) * bin_widths # Do the actual calculation\n",
    "    return exp_shr\n",
    "\n",
    "#####################################\n",
    "#####################################\n",
    "# The corrected Functions:\n",
    "\n",
    "def func_classic(l, t, s=0, chr_len=1):\n",
    "    \"\"\"Classical Function of block sharing. If l vec, return vec\"\"\"\n",
    "    x = np.exp(-l * t) * t**2  # Probability of no recomb times start/end\n",
    "    return x * (chr_len - l)\n",
    "    \n",
    "def func_selfing_corr_simple(l, t, s=0, chr_len=1):\n",
    "    \"\"\"Function for block sharing with the simple correction factor.\"\"\"\n",
    "    corr_factor = (2 - 2 * s) / (2 - s) # Calculate the correction factor\n",
    "    eff_chr = chr_len * corr_factor # Rescale Chromosome Length\n",
    "    eff_l = l * corr_factor         # Rescale the Block length\n",
    "    \n",
    "    x = np.exp(-eff_l * t) * t**2  # Probability of no recomb times start/end\n",
    "    return x * (eff_chr - eff_l) * corr_factor # The last factor is for the fact the bin width is reduced as well\n",
    "    \n",
    "def func_selfing_corr_poisson(l, t, s=0, chr_len=1):\n",
    "    \"\"\"Function of block sharing with the complex correlations of selfing.\n",
    "    Assume Nr of outcrossing events is poisson distributed, and every outcrossing\n",
    "    induces rec. at rate 2 (1 from prev. gen, 0.5 from before; and so forth\"\"\"\n",
    "    lam = (1-s) * t \n",
    "    \n",
    "    a = np.exp(-lam * (1 - np.exp(-2* l)))\n",
    "    b = (lam**2 * np.exp(-4 * l) * 4) + (lam * np.exp(-2*l) * 4)\n",
    "    prod = a * b  # For starting at one point\n",
    "    return prod * (chr_len - l) "
   ]
  },
  {
   "cell_type": "code",
   "execution_count": 110,
   "metadata": {},
   "outputs": [
    {
     "name": "stdout",
     "output_type": "stream",
     "text": [
      "Effective Frac: Estimated: 0.665942\n",
      "Effective Frac: Theory: 0.666667\n"
     ]
    }
   ],
   "source": [
    "# Test the function\n",
    "a = sim_recomb(10.0, s=0.0, t=10000)\n",
    "len(a)  # Print how many effective recombination events\n",
    "\n",
    "### Test how man recomb events are healed:\n",
    "ss=0.5\n",
    "b = sim_recomb(10.0, s=ss, t=10000)\n",
    "\n",
    "print(\"Effective Frac: Estimated: %.6f\" % (len(b)/ len(a)))\n",
    "print(\"Effective Frac: Theory: %.6f\" % ((2 - 2 * ss) / (2 - ss)))"
   ]
  },
  {
   "cell_type": "markdown",
   "metadata": {},
   "source": [
    "# Test theory on replicate runs:"
   ]
  },
  {
   "cell_type": "code",
   "execution_count": 129,
   "metadata": {},
   "outputs": [
    {
     "name": "stdout",
     "output_type": "stream",
     "text": [
      "Simulations complete!\n",
      "Theory predictions classic: Done\n",
      "Theory predictions simple selfing: Done\n",
      "Theory predictions Poisson selfing: Done\n"
     ]
    }
   ],
   "source": [
    "### Create the data: Run nr of replicated\n",
    "bins=np.linspace(0.05,0.75,71)\n",
    "s = 0.95\n",
    "chr_len = 20\n",
    "t=200\n",
    "\n",
    "# Run the simulations\n",
    "counts = replicate_statistics(l=chr_len, s=s, t=t, nr_reps=10000, bins=bins, nr_cores=0)\n",
    "print(\"Simulations complete!\")\n",
    "\n",
    "\n",
    "pred_classic = blocks_predicted(func_classic, bins, t=t, s=s, chr_len=chr_len)\n",
    "print(\"Theory predictions classic: Done\")\n",
    "\n",
    "pred_simple_self = blocks_predicted(func_selfing_corr_simple, bins, t=t, s=s, chr_len=chr_len)\n",
    "print(\"Theory predictions simple selfing: Done\")\n",
    "\n",
    "pred_compl_corr = blocks_predicted(func_selfing_corr_poisson, bins, t=t, s=s, chr_len=chr_len)\n",
    "print(\"Theory predictions Poisson selfing: Done\")"
   ]
  },
  {
   "cell_type": "code",
   "execution_count": 121,
   "metadata": {},
   "outputs": [
    {
     "data": {
      "text/plain": [
       "array([0.01243771, 0.01223456, 0.01203414, 0.01183643, 0.01164138,\n",
       "       0.01144896, 0.01125915, 0.01107191, 0.0108872 , 0.010705  ,\n",
       "       0.01052528, 0.010348  , 0.01017314, 0.01000066, 0.00983054,\n",
       "       0.00966274, 0.00949724, 0.00933401, 0.00917303, 0.00901425,\n",
       "       0.00885766, 0.00870323, 0.00855094, 0.00840074, 0.00825263,\n",
       "       0.00810657, 0.00796254, 0.0078205 , 0.00768045, 0.00754235,\n",
       "       0.00740618, 0.00727191, 0.00713952, 0.00700898, 0.00688028,\n",
       "       0.00675339, 0.00662829, 0.00650495, 0.00638336, 0.00626348,\n",
       "       0.0061453 , 0.00602881, 0.00591396, 0.00580076, 0.00568917,\n",
       "       0.00557917, 0.00547075, 0.00536388, 0.00525854, 0.00515472,\n",
       "       0.0050524 , 0.00495155, 0.00485216, 0.00475421, 0.00465768,\n",
       "       0.00456255, 0.00446881, 0.00437644, 0.00428541, 0.00419572,\n",
       "       0.00410734, 0.00402027, 0.00393447, 0.00384994, 0.00376665,\n",
       "       0.0036846 , 0.00360377, 0.00352414, 0.00344569, 0.00336842])"
      ]
     },
     "execution_count": 121,
     "metadata": {},
     "output_type": "execute_result"
    }
   ],
   "source": [
    "pred_simple_self"
   ]
  },
  {
   "cell_type": "markdown",
   "metadata": {},
   "source": [
    "## Do the plotting:"
   ]
  },
  {
   "cell_type": "code",
   "execution_count": 130,
   "metadata": {},
   "outputs": [
    {
     "data": {
      "image/png": "[encoded data removed]",
      "text/plain": [
       "<Figure size 576x576 with 1 Axes>"
      ]
     },
     "metadata": {},
     "output_type": "display_data"
    }
   ],
   "source": [
    "fs = 24\n",
    "mid_bins = (bins[1:] + bins[:-1]) / 2.0\n",
    "\n",
    "\n",
    "plt.figure(figsize=(8, 8))\n",
    "plt.plot(mid_bins, counts, linestyle=\"\", marker = \"o\", label =\"Empirical\", markersize=8, color = \"firebrick\")\n",
    "#plt.plot(mid_bins, pred_classic, linestyle=\"\",  marker = \"o\", label =\"Classic Calc.\", markersize=8, color = \"green\" )\n",
    "plt.plot(mid_bins, pred_simple_self, linestyle=\"\",  marker = \"o\", label =\"Simple Corr.\", markersize=8, color = \"yellow\" )\n",
    "plt.plot(mid_bins, pred_compl_corr, linestyle=\"\",  marker = \"o\", label =\"Poisson Corr.\", markersize=8, color = \"blue\" )\n",
    "\n",
    "\n",
    "plt.xlabel(\"Morgan\", fontsize = fs)\n",
    "plt.ylabel(\"Effective Blocks per Length Bin\", fontsize = fs)\n",
    "plt.legend(fontsize = fs)\n",
    "plt.yscale(\"log\")\n",
    "plt.title(\"Block lengths after %i generations.\" % t, fontsize=fs)\n",
    "\n",
    "save_name = \"Figures/formular_mismatch_gen=\" + str(t) + \".pdf\" \n",
    "#plt.savefig(save_name, bbox_inches='tight', pad_inches=0)\n",
    "plt.show()"
   ]
  },
  {
   "cell_type": "markdown",
   "metadata": {},
   "source": [
    "# Test effective Nr of recombination events:"
   ]
  },
  {
   "cell_type": "markdown",
   "metadata": {},
   "source": [
    "# Area 51: For trying the crazy stuff!"
   ]
  },
  {
   "cell_type": "code",
   "execution_count": 14,
   "metadata": {},
   "outputs": [
    {
     "data": {
      "text/plain": [
       "array([2, 1, 0, 1, 0, 0, 0, 1, 0, 0, 0, 0, 0, 0, 0, 0, 0, 0, 0, 0])"
      ]
     },
     "execution_count": 14,
     "metadata": {},
     "output_type": "execute_result"
    }
   ],
   "source": [
    "rec_list = np.array([0.1, 0.3, 0.7, 0.73, 0.8, 0.81])\n",
    "bins = np.linspace(0,1,21)\n",
    "post_process_recomb_list(rec_list, bins)"
   ]
  },
  {
   "cell_type": "code",
   "execution_count": 38,
   "metadata": {},
   "outputs": [
    {
     "data": {
      "text/plain": [
       "array([0.  , 0.01, 0.02, 0.03, 0.04, 0.05, 0.06, 0.07, 0.08, 0.09, 0.1 ])"
      ]
     },
     "execution_count": 38,
     "metadata": {},
     "output_type": "execute_result"
    }
   ],
   "source": []
  },
  {
   "cell_type": "code",
   "execution_count": 28,
   "metadata": {},
   "outputs": [],
   "source": [
    "a=np.zeros(2,dtype = \"int\")"
   ]
  },
  {
   "cell_type": "code",
   "execution_count": null,
   "metadata": {},
   "outputs": [],
   "source": [
    "print(\"Running\")"
   ]
  },
  {
   "cell_type": "code",
   "execution_count": 62,
   "metadata": {},
   "outputs": [
    {
     "data": {
      "text/plain": [
       "array([3.61934967, 2.96327288, 2.42612264, 1.98634122, 1.62627864,\n",
       "       1.33148433, 1.09012717, 0.89252064, 0.7307341 , 0.59827448])"
      ]
     },
     "execution_count": 62,
     "metadata": {},
     "output_type": "execute_result"
    }
   ],
   "source": [
    "blocks_predicted(func_classic, bins, t=20, s=0.0, chr_len=1.0)"
   ]
  },
  {
   "cell_type": "code",
   "execution_count": 107,
   "metadata": {},
   "outputs": [
    {
     "data": {
      "text/plain": [
       "array([0, 1, 2, 3, 5])"
      ]
     },
     "execution_count": 107,
     "metadata": {},
     "output_type": "execute_result"
    }
   ],
   "source": [
    "a=np.array([1,2,3])\n",
    "np.concatenate(([0],a,[5]))"
   ]
  },
  {
   "cell_type": "code",
   "execution_count": null,
   "metadata": {},
   "outputs": [],
   "source": []
  }
 ],
 "metadata": {
  "kernelspec": {
   "display_name": "Python 3",
   "language": "python",
   "name": "python3"
  },
  "language_info": {
   "codemirror_mode": {
    "name": "ipython",
    "version": 3
   },
   "file_extension": ".py",
   "mimetype": "text/x-python",
   "name": "python",
   "nbconvert_exporter": "python",
   "pygments_lexer": "ipython3",
   "version": "3.5.2"
  }
 },
 "nbformat": 4,
 "nbformat_minor": 2
}
