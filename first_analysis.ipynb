{
 "cells": [
  {
   "cell_type": "markdown",
   "metadata": {},
   "source": [
    "## This is a first analysis of the data send by Tom\n",
    "The idea is to do some first exploratory analysis.\n",
    "Also, the data is transformed and saved in useable formats."
   ]
  },
  {
   "cell_type": "code",
   "execution_count": 16,
   "metadata": {},
   "outputs": [],
   "source": [
    "import numpy as np\n",
    "import pandas as pd\n",
    "import matplotlib.pyplot as plt\n",
    "import itertools\n",
    "import bisect\n",
    "from pyproj import Proj  # Package for doing GPS-calculations and Projections\n",
    "import simplekml   # To export Google Map Files\n",
    "#from scipy.stats import binned_statistic"
   ]
  },
  {
   "cell_type": "code",
   "execution_count": 2,
   "metadata": {},
   "outputs": [],
   "source": [
    "# Define where to find the files and actually load them:\n",
    "ibd_file_path = \"./Data/CB10k.ibd30.ibd.txt\"\n",
    "coordinate_path = \"./Data/CB108.coordinate.txt\"\n",
    "\n",
    "# Files for Data Version 0.1\n",
    "#ibd_file_path = \"./Data/CB10k.ibd30.ibd.txt\"\n",
    "#coordinate_path = \"./Data/CB108.coordinate.txt\"\n",
    "\n",
    "\n",
    "\n",
    "# Load the IBD data\n",
    "ibd_data = pd.read_csv(ibd_file_path, sep=\"\\t\", header=None)\n",
    "ibd_data.columns = [\"Ind1\", \"HapIndex1\", \"Ind2\", \"HapIndex2\",\"Scaffold\", \"IBDStart\", \"IBDEnd\", \"Lod\", \"IBDlen\"]   # Set the column headers\n",
    "\n",
    "# Load the coordinates\n",
    "coords = pd.read_csv(coordinate_path, sep=\"\\t\")"
   ]
  },
  {
   "cell_type": "code",
   "execution_count": 3,
   "metadata": {},
   "outputs": [
    {
     "data": {
      "text/html": [
       "<div>\n",
       "<style scoped>\n",
       "    .dataframe tbody tr th:only-of-type {\n",
       "        vertical-align: middle;\n",
       "    }\n",
       "\n",
       "    .dataframe tbody tr th {\n",
       "        vertical-align: top;\n",
       "    }\n",
       "\n",
       "    .dataframe thead th {\n",
       "        text-align: right;\n",
       "    }\n",
       "</style>\n",
       "<table border=\"1\" class=\"dataframe\">\n",
       "  <thead>\n",
       "    <tr style=\"text-align: right;\">\n",
       "      <th></th>\n",
       "      <th>Ind1</th>\n",
       "      <th>HapIndex1</th>\n",
       "      <th>Ind2</th>\n",
       "      <th>HapIndex2</th>\n",
       "      <th>Scaffold</th>\n",
       "      <th>IBDStart</th>\n",
       "      <th>IBDEnd</th>\n",
       "      <th>Lod</th>\n",
       "      <th>IBDlen</th>\n",
       "    </tr>\n",
       "  </thead>\n",
       "  <tbody>\n",
       "    <tr>\n",
       "      <th>0</th>\n",
       "      <td>CB336</td>\n",
       "      <td>1</td>\n",
       "      <td>CB376</td>\n",
       "      <td>1</td>\n",
       "      <td>Scaffold10040</td>\n",
       "      <td>1140875</td>\n",
       "      <td>1308706</td>\n",
       "      <td>5.23</td>\n",
       "      <td>167832</td>\n",
       "    </tr>\n",
       "    <tr>\n",
       "      <th>1</th>\n",
       "      <td>CB336</td>\n",
       "      <td>1</td>\n",
       "      <td>CB376</td>\n",
       "      <td>1</td>\n",
       "      <td>Scaffold10040</td>\n",
       "      <td>1308714</td>\n",
       "      <td>1476150</td>\n",
       "      <td>3.36</td>\n",
       "      <td>167437</td>\n",
       "    </tr>\n",
       "    <tr>\n",
       "      <th>2</th>\n",
       "      <td>CB336</td>\n",
       "      <td>1</td>\n",
       "      <td>CB376</td>\n",
       "      <td>1</td>\n",
       "      <td>Scaffold10040</td>\n",
       "      <td>2942385</td>\n",
       "      <td>3176848</td>\n",
       "      <td>3.81</td>\n",
       "      <td>234464</td>\n",
       "    </tr>\n",
       "  </tbody>\n",
       "</table>\n",
       "</div>"
      ],
      "text/plain": [
       "    Ind1  HapIndex1   Ind2  HapIndex2       Scaffold  IBDStart   IBDEnd   Lod  \\\n",
       "0  CB336          1  CB376          1  Scaffold10040   1140875  1308706  5.23   \n",
       "1  CB336          1  CB376          1  Scaffold10040   1308714  1476150  3.36   \n",
       "2  CB336          1  CB376          1  Scaffold10040   2942385  3176848  3.81   \n",
       "\n",
       "   IBDlen  \n",
       "0  167832  \n",
       "1  167437  \n",
       "2  234464  "
      ]
     },
     "execution_count": 3,
     "metadata": {},
     "output_type": "execute_result"
    }
   ],
   "source": [
    "ibd_data.head(3)"
   ]
  },
  {
   "cell_type": "code",
   "execution_count": 4,
   "metadata": {},
   "outputs": [
    {
     "data": {
      "text/html": [
       "<div>\n",
       "<style scoped>\n",
       "    .dataframe tbody tr th:only-of-type {\n",
       "        vertical-align: middle;\n",
       "    }\n",
       "\n",
       "    .dataframe tbody tr th {\n",
       "        vertical-align: top;\n",
       "    }\n",
       "\n",
       "    .dataframe thead th {\n",
       "        text-align: right;\n",
       "    }\n",
       "</style>\n",
       "<table border=\"1\" class=\"dataframe\">\n",
       "  <thead>\n",
       "    <tr style=\"text-align: right;\">\n",
       "      <th></th>\n",
       "      <th>ID</th>\n",
       "      <th>Latitude</th>\n",
       "      <th>Longitude</th>\n",
       "    </tr>\n",
       "  </thead>\n",
       "  <tbody>\n",
       "    <tr>\n",
       "      <th>0</th>\n",
       "      <td>CB001</td>\n",
       "      <td>38.98123</td>\n",
       "      <td>-106.99833</td>\n",
       "    </tr>\n",
       "    <tr>\n",
       "      <th>1</th>\n",
       "      <td>CB047</td>\n",
       "      <td>38.98003</td>\n",
       "      <td>-106.99963</td>\n",
       "    </tr>\n",
       "    <tr>\n",
       "      <th>2</th>\n",
       "      <td>CB061</td>\n",
       "      <td>38.98498</td>\n",
       "      <td>-107.00957</td>\n",
       "    </tr>\n",
       "  </tbody>\n",
       "</table>\n",
       "</div>"
      ],
      "text/plain": [
       "      ID  Latitude  Longitude\n",
       "0  CB001  38.98123 -106.99833\n",
       "1  CB047  38.98003 -106.99963\n",
       "2  CB061  38.98498 -107.00957"
      ]
     },
     "execution_count": 4,
     "metadata": {},
     "output_type": "execute_result"
    }
   ],
   "source": [
    "coords.head(3)"
   ]
  },
  {
   "cell_type": "code",
   "execution_count": 5,
   "metadata": {},
   "outputs": [
    {
     "name": "stdout",
     "output_type": "stream",
     "text": [
      "Total Number of IBD Blocks: 128049\n",
      "Total Number of Individuals: 108\n"
     ]
    }
   ],
   "source": [
    "# start doing some simple summary of the data:\n",
    "nr_ibd_blocks = len(ibd_data)\n",
    "nr_inds = len(coords)\n",
    "print(\"Total Number of IBD Blocks: %i\" % nr_ibd_blocks)\n",
    "print(\"Total Number of Individuals: %i\" % nr_inds)"
   ]
  },
  {
   "cell_type": "code",
   "execution_count": 6,
   "metadata": {},
   "outputs": [
    {
     "name": "stderr",
     "output_type": "stream",
     "text": [
      "c:\\python27\\lib\\site-packages\\matplotlib\\cbook\\deprecation.py:107: MatplotlibDeprecationWarning: Adding an axes using the same arguments as a previous axes currently reuses the earlier instance.  In a future version, a new instance will always be created and returned.  Meanwhile, this warning can be suppressed, and the future behavior ensured, by passing a unique label to each axes instance.\n",
      "  warnings.warn(message, mplDeprecation, stacklevel=1)\n"
     ]
    },
    {
     "data": {
      "image/png": "[encoded data removed]",
      "text/plain": [
       "<Figure size 576x576 with 1 Axes>"
      ]
     },
     "metadata": {},
     "output_type": "display_data"
    },
    {
     "data": {
      "text/html": [
       "<div>\n",
       "<style scoped>\n",
       "    .dataframe tbody tr th:only-of-type {\n",
       "        vertical-align: middle;\n",
       "    }\n",
       "\n",
       "    .dataframe tbody tr th {\n",
       "        vertical-align: top;\n",
       "    }\n",
       "\n",
       "    .dataframe thead th {\n",
       "        text-align: right;\n",
       "    }\n",
       "</style>\n",
       "<table border=\"1\" class=\"dataframe\">\n",
       "  <thead>\n",
       "    <tr style=\"text-align: right;\">\n",
       "      <th></th>\n",
       "      <th>ID</th>\n",
       "      <th>Latitude</th>\n",
       "      <th>Longitude</th>\n",
       "      <th>Easting</th>\n",
       "      <th>Northing</th>\n",
       "    </tr>\n",
       "  </thead>\n",
       "  <tbody>\n",
       "    <tr>\n",
       "      <th>0</th>\n",
       "      <td>CB001</td>\n",
       "      <td>38.98123</td>\n",
       "      <td>-106.99833</td>\n",
       "      <td>326907.992860</td>\n",
       "      <td>4.316593e+06</td>\n",
       "    </tr>\n",
       "    <tr>\n",
       "      <th>1</th>\n",
       "      <td>CB047</td>\n",
       "      <td>38.98003</td>\n",
       "      <td>-106.99963</td>\n",
       "      <td>326792.454302</td>\n",
       "      <td>4.316462e+06</td>\n",
       "    </tr>\n",
       "    <tr>\n",
       "      <th>2</th>\n",
       "      <td>CB061</td>\n",
       "      <td>38.98498</td>\n",
       "      <td>-107.00957</td>\n",
       "      <td>325943.505859</td>\n",
       "      <td>4.317031e+06</td>\n",
       "    </tr>\n",
       "    <tr>\n",
       "      <th>3</th>\n",
       "      <td>CB063</td>\n",
       "      <td>38.98808</td>\n",
       "      <td>-107.00797</td>\n",
       "      <td>326089.688918</td>\n",
       "      <td>4.317372e+06</td>\n",
       "    </tr>\n",
       "    <tr>\n",
       "      <th>4</th>\n",
       "      <td>CB068</td>\n",
       "      <td>38.96090</td>\n",
       "      <td>-106.99268</td>\n",
       "      <td>327348.054704</td>\n",
       "      <td>4.314326e+06</td>\n",
       "    </tr>\n",
       "  </tbody>\n",
       "</table>\n",
       "</div>"
      ],
      "text/plain": [
       "      ID  Latitude  Longitude        Easting      Northing\n",
       "0  CB001  38.98123 -106.99833  326907.992860  4.316593e+06\n",
       "1  CB047  38.98003 -106.99963  326792.454302  4.316462e+06\n",
       "2  CB061  38.98498 -107.00957  325943.505859  4.317031e+06\n",
       "3  CB063  38.98808 -107.00797  326089.688918  4.317372e+06\n",
       "4  CB068  38.96090 -106.99268  327348.054704  4.314326e+06"
      ]
     },
     "execution_count": 6,
     "metadata": {},
     "output_type": "execute_result"
    }
   ],
   "source": [
    "# Convert Individual GPS Coordinates into Meters:\n",
    "# Add altitude\n",
    "\n",
    "#Prepare the Longitude/Latidude to Easting/Northing transformer:\n",
    "my_proj = Proj(proj='utm', zone=\"13S\", ellps='WGS84', units='m') \n",
    "\n",
    "# Transform all coordinates:\n",
    "\n",
    "latloncoords = coords[[\"Latitude\",\"Longitude\"]].values\n",
    "\n",
    "# Transform to xy Coordinates (in Form Easting, Northing)\n",
    "xy_coords = np.array([my_proj(latloncoords[i,1], latloncoords[i,0]) for i in xrange(len(latloncoords))])\n",
    "xy_coords[:10] # Easting,\n",
    "\n",
    "# Make a Map to plot things nicely:\n",
    "plt.figure(figsize=(8,8))\n",
    "plt.scatter(xy_coords[:,0]/1000.0, xy_coords[:,1]/1000.0)\n",
    "plt.xlabel(\"X-Coordinate [km]\", fontsize=14)\n",
    "plt.ylabel(\"Y-Coordinate [km]\", fontsize=14)\n",
    "plt.axes().set_aspect('equal')\n",
    "plt.grid(True)\n",
    "plt.show()\n",
    "\n",
    "# Add Altititude Values (from Shuttle Data)\n",
    "# Make this later\n",
    "\n",
    "# Add Northing and Easting [in meters] to the datasets\n",
    "coords[\"Easting\"] = xy_coords[:,0]\n",
    "coords[\"Northing\"] =  xy_coords[:,1]\n",
    "\n",
    "# Maybe cut out outliers\n",
    "coords.head(5)"
   ]
  },
  {
   "cell_type": "code",
   "execution_count": 48,
   "metadata": {},
   "outputs": [
    {
     "name": "stdout",
     "output_type": "stream",
     "text": [
      "Creating .kml for 108 individuals\n",
      ".kml successfully generated!\n"
     ]
    }
   ],
   "source": [
    "# Extract Google Maps File  (.kml) to verify the spatial position\n",
    "kml = simplekml.Kml()\n",
    "\n",
    "# First define the Styles (the pins)\n",
    "style = simplekml.StyleMap()  # Create a style map for highlight style and normal style FOR UNCORRECTED\n",
    "style.normalstyle.labelstyle.scale = 0\n",
    "style.normalstyle.iconstyle.icon.href = \"http://maps.google.com/mapfiles/kml/pushpin/grn-pushpin.png\"\n",
    "style.highlightstyle.labelstyle.scale = 1\n",
    "style.highlightstyle.iconstyle.icon.href = 'http://maps.google.com/mapfiles/kml/pushpin/red-pushpin.png'\n",
    "\n",
    "print(\"Creating .kml for %i individuals\" % nr_inds)\n",
    "for i in xrange(nr_inds):\n",
    "    #if not coords.loc[i, lat_corr_ind]: continue  # Stop if no GPS data    \n",
    "    lat = coords[\"Latitude\"].iloc[i]\n",
    "    lon = coords[\"Longitude\"].iloc[i]\n",
    "    ind_id = coords[\"ID\"].iloc[i]\n",
    "    \n",
    "    pnt = kml.newpoint(name=ind_id, coords=[(lon, lat)])   # Could add altitude to lon/lat\n",
    "    #pnt.description = data[i, comm_ind]\n",
    "    pnt.stylemap = style\n",
    "    pnt.altitudemode = 'clamptoground'\n",
    "    pnt.extrude = 1\n",
    "\n",
    "kml.save(\"boechera_samples.kml\")\n",
    "print(\".kml successfully generated!\")"
   ]
  },
  {
   "cell_type": "code",
   "execution_count": 9,
   "metadata": {},
   "outputs": [
    {
     "name": "stdout",
     "output_type": "stream",
     "text": [
      "Doing Pair 0\n",
      "Doing Pair 1000\n",
      "Doing Pair 2000\n",
      "Doing Pair 3000\n",
      "Doing Pair 4000\n",
      "Doing Pair 5000\n",
      "Doing Pair 6000\n",
      "Doing Pair 7000\n",
      "Doing Pair 8000\n",
      "Doing Pair 9000\n",
      "Doing Pair 10000\n",
      "Doing Pair 11000\n",
      "Doing Pair 12000\n",
      "Doing Pair 13000\n",
      "Doing Pair 14000\n",
      "Doing Pair 15000\n",
      "Doing Pair 16000\n",
      "Doing Pair 17000\n",
      "Doing Pair 18000\n",
      "Doing Pair 19000\n",
      "Doing Pair 20000\n",
      "Doing Pair 21000\n",
      "Doing Pair 22000\n",
      "Doing Pair 23000\n",
      "Doing Pair 24000\n",
      "Doing Pair 25000\n",
      "Doing Pair 26000\n",
      "Doing Pair 27000\n",
      "Doing Pair 28000\n",
      "Doing Pair 29000\n",
      "Doing Pair 30000\n",
      "Doing Pair 31000\n",
      "Doing Pair 32000\n",
      "Doing Pair 33000\n",
      "Doing Pair 34000\n",
      "Doing Pair 35000\n",
      "Doing Pair 36000\n",
      "Doing Pair 37000\n",
      "Doing Pair 38000\n",
      "Doing Pair 39000\n",
      "Doing Pair 40000\n",
      "Doing Pair 41000\n",
      "Doing Pair 42000\n",
      "Doing Pair 43000\n",
      "Doing Pair 44000\n",
      "Doing Pair 45000\n",
      "Doing Pair 46000\n",
      "Doing Pair 47000\n",
      "Doing Pair 48000\n",
      "Doing Pair 49000\n",
      "Doing Pair 50000\n",
      "Doing Pair 51000\n",
      "Doing Pair 52000\n",
      "Doing Pair 53000\n",
      "Doing Pair 54000\n",
      "Doing Pair 55000\n",
      "Doing Pair 56000\n",
      "Doing Pair 57000\n",
      "Doing Pair 58000\n",
      "Doing Pair 59000\n",
      "Doing Pair 60000\n",
      "Doing Pair 61000\n",
      "Doing Pair 62000\n",
      "Doing Pair 63000\n",
      "Doing Pair 64000\n",
      "Doing Pair 65000\n",
      "Doing Pair 66000\n",
      "Doing Pair 67000\n",
      "Doing Pair 68000\n",
      "Doing Pair 69000\n",
      "Doing Pair 70000\n",
      "Doing Pair 71000\n",
      "Doing Pair 72000\n",
      "Doing Pair 73000\n",
      "Doing Pair 74000\n",
      "Doing Pair 75000\n",
      "Doing Pair 76000\n",
      "Doing Pair 77000\n",
      "Doing Pair 78000\n",
      "Doing Pair 79000\n",
      "Doing Pair 80000\n",
      "Doing Pair 81000\n",
      "Doing Pair 82000\n",
      "Doing Pair 83000\n",
      "Doing Pair 84000\n",
      "Doing Pair 85000\n",
      "Doing Pair 86000\n",
      "Doing Pair 87000\n",
      "Doing Pair 88000\n",
      "Doing Pair 89000\n",
      "Doing Pair 90000\n",
      "Doing Pair 91000\n",
      "Doing Pair 92000\n",
      "Doing Pair 93000\n",
      "Doing Pair 94000\n",
      "Doing Pair 95000\n",
      "Doing Pair 96000\n",
      "Doing Pair 97000\n",
      "Doing Pair 98000\n",
      "Doing Pair 99000\n",
      "Doing Pair 100000\n",
      "Doing Pair 101000\n",
      "Doing Pair 102000\n",
      "Doing Pair 103000\n",
      "Doing Pair 104000\n",
      "Doing Pair 105000\n",
      "Doing Pair 106000\n",
      "Doing Pair 107000\n",
      "Doing Pair 108000\n",
      "Doing Pair 109000\n",
      "Doing Pair 110000\n",
      "Doing Pair 111000\n",
      "Doing Pair 112000\n",
      "Doing Pair 113000\n",
      "Doing Pair 114000\n",
      "Doing Pair 115000\n",
      "Doing Pair 116000\n",
      "Doing Pair 117000\n",
      "Doing Pair 118000\n",
      "Doing Pair 119000\n",
      "Doing Pair 120000\n",
      "Doing Pair 121000\n",
      "Doing Pair 122000\n",
      "Doing Pair 123000\n",
      "Doing Pair 124000\n",
      "Doing Pair 125000\n",
      "Doing Pair 126000\n",
      "Doing Pair 127000\n",
      "Doing Pair 128000\n"
     ]
    }
   ],
   "source": [
    "# Calculate all pairwise Distances for all blocks:\n",
    "\n",
    "def pw_distance(coords0, coords1):\n",
    "    '''Calculates the pairwise distance between coords0, coords1'''\n",
    "    dist=np.linalg.norm(coords0-coords1)\n",
    "    return dist\n",
    "\n",
    "pw_dists = np.zeros(nr_ibd_blocks) # Empty Container\n",
    "\n",
    "# Iterate over all blocks:\n",
    "for i in xrange(nr_ibd_blocks):\n",
    "    if i%1000==0:\n",
    "        print(\"Doing Pair %i\" %i)\n",
    "    ind1 = ibd_data[\"Ind1\"].iloc[i]\n",
    "    ind2 = ibd_data[\"Ind2\"].iloc[i]\n",
    "\n",
    "    row1 = coords[coords[\"ID\"]==ind1]\n",
    "    row2 = coords[coords[\"ID\"]==ind2]\n",
    "    \n",
    "    # Sanity Check (I can find everything only once!)\n",
    "    assert(len(row1)==1)\n",
    "    assert(len(row2)==1)\n",
    "    \n",
    "    coords1=row1[[\"Easting\",\"Northing\"]].values[0]\n",
    "    coords2=row2[[\"Easting\",\"Northing\"]].values[0]\n",
    "\n",
    "    pw_dists[i]=pw_distance(coords1, coords2)\n",
    "\n",
    "ibd_data[\"pw_dist\"]=pw_dists  # Add the pairwise distance column to "
   ]
  },
  {
   "cell_type": "code",
   "execution_count": 11,
   "metadata": {},
   "outputs": [
    {
     "data": {
      "text/html": [
       "<div>\n",
       "<style scoped>\n",
       "    .dataframe tbody tr th:only-of-type {\n",
       "        vertical-align: middle;\n",
       "    }\n",
       "\n",
       "    .dataframe tbody tr th {\n",
       "        vertical-align: top;\n",
       "    }\n",
       "\n",
       "    .dataframe thead th {\n",
       "        text-align: right;\n",
       "    }\n",
       "</style>\n",
       "<table border=\"1\" class=\"dataframe\">\n",
       "  <thead>\n",
       "    <tr style=\"text-align: right;\">\n",
       "      <th></th>\n",
       "      <th>Ind1</th>\n",
       "      <th>HapIndex1</th>\n",
       "      <th>Ind2</th>\n",
       "      <th>HapIndex2</th>\n",
       "      <th>Scaffold</th>\n",
       "      <th>IBDStart</th>\n",
       "      <th>IBDEnd</th>\n",
       "      <th>Lod</th>\n",
       "      <th>IBDlen</th>\n",
       "      <th>pw_dist</th>\n",
       "    </tr>\n",
       "  </thead>\n",
       "  <tbody>\n",
       "    <tr>\n",
       "      <th>0</th>\n",
       "      <td>CB336</td>\n",
       "      <td>1</td>\n",
       "      <td>CB376</td>\n",
       "      <td>1</td>\n",
       "      <td>Scaffold10040</td>\n",
       "      <td>1140875</td>\n",
       "      <td>1308706</td>\n",
       "      <td>5.23</td>\n",
       "      <td>167832</td>\n",
       "      <td>141.960302</td>\n",
       "    </tr>\n",
       "    <tr>\n",
       "      <th>1</th>\n",
       "      <td>CB336</td>\n",
       "      <td>1</td>\n",
       "      <td>CB376</td>\n",
       "      <td>1</td>\n",
       "      <td>Scaffold10040</td>\n",
       "      <td>1308714</td>\n",
       "      <td>1476150</td>\n",
       "      <td>3.36</td>\n",
       "      <td>167437</td>\n",
       "      <td>141.960302</td>\n",
       "    </tr>\n",
       "  </tbody>\n",
       "</table>\n",
       "</div>"
      ],
      "text/plain": [
       "    Ind1  HapIndex1   Ind2  HapIndex2       Scaffold  IBDStart   IBDEnd   Lod  \\\n",
       "0  CB336          1  CB376          1  Scaffold10040   1140875  1308706  5.23   \n",
       "1  CB336          1  CB376          1  Scaffold10040   1308714  1476150  3.36   \n",
       "\n",
       "   IBDlen     pw_dist  \n",
       "0  167832  141.960302  \n",
       "1  167437  141.960302  "
      ]
     },
     "execution_count": 11,
     "metadata": {},
     "output_type": "execute_result"
    }
   ],
   "source": [
    "# Save pre-processed Coordinates and IBD-BLocks to .csv files\n",
    "ibd_data.to_csv('ibd_blocks.csv', index=False)\n",
    "coords.to_csv('coords.csv', index=False)\n",
    "\n",
    "ibd_data.head(2)"
   ]
  },
  {
   "cell_type": "markdown",
   "metadata": {},
   "source": [
    "## Load Pre-Processed Stuff and do Block analysis:"
   ]
  },
  {
   "cell_type": "code",
   "execution_count": 12,
   "metadata": {},
   "outputs": [
    {
     "data": {
      "text/html": [
       "<div>\n",
       "<style scoped>\n",
       "    .dataframe tbody tr th:only-of-type {\n",
       "        vertical-align: middle;\n",
       "    }\n",
       "\n",
       "    .dataframe tbody tr th {\n",
       "        vertical-align: top;\n",
       "    }\n",
       "\n",
       "    .dataframe thead th {\n",
       "        text-align: right;\n",
       "    }\n",
       "</style>\n",
       "<table border=\"1\" class=\"dataframe\">\n",
       "  <thead>\n",
       "    <tr style=\"text-align: right;\">\n",
       "      <th></th>\n",
       "      <th>ID</th>\n",
       "      <th>Latitude</th>\n",
       "      <th>Longitude</th>\n",
       "      <th>Easting</th>\n",
       "      <th>Northing</th>\n",
       "    </tr>\n",
       "  </thead>\n",
       "  <tbody>\n",
       "    <tr>\n",
       "      <th>0</th>\n",
       "      <td>CB001</td>\n",
       "      <td>38.98123</td>\n",
       "      <td>-106.99833</td>\n",
       "      <td>326907.992860</td>\n",
       "      <td>4.316593e+06</td>\n",
       "    </tr>\n",
       "    <tr>\n",
       "      <th>1</th>\n",
       "      <td>CB047</td>\n",
       "      <td>38.98003</td>\n",
       "      <td>-106.99963</td>\n",
       "      <td>326792.454302</td>\n",
       "      <td>4.316462e+06</td>\n",
       "    </tr>\n",
       "    <tr>\n",
       "      <th>2</th>\n",
       "      <td>CB061</td>\n",
       "      <td>38.98498</td>\n",
       "      <td>-107.00957</td>\n",
       "      <td>325943.505859</td>\n",
       "      <td>4.317031e+06</td>\n",
       "    </tr>\n",
       "  </tbody>\n",
       "</table>\n",
       "</div>"
      ],
      "text/plain": [
       "      ID  Latitude  Longitude        Easting      Northing\n",
       "0  CB001  38.98123 -106.99833  326907.992860  4.316593e+06\n",
       "1  CB047  38.98003 -106.99963  326792.454302  4.316462e+06\n",
       "2  CB061  38.98498 -107.00957  325943.505859  4.317031e+06"
      ]
     },
     "execution_count": 12,
     "metadata": {},
     "output_type": "execute_result"
    }
   ],
   "source": [
    "ibd_data = pd.read_csv('ibd_blocks.csv')\n",
    "coords = pd.read_csv('coords.csv')\n",
    "\n",
    "ibd_data.head(3)\n",
    "coords.head(3)"
   ]
  },
  {
   "cell_type": "code",
   "execution_count": 13,
   "metadata": {},
   "outputs": [
    {
     "name": "stdout",
     "output_type": "stream",
     "text": [
      "Analyze 2494 of total 128049 blocks\n",
      "Analyze 377 of total 128049 blocks\n",
      "Analyze 65 of total 128049 blocks\n"
     ]
    },
    {
     "data": {
      "image/png": "[encoded data removed]",
      "text/plain": [
       "<Figure size 720x720 with 1 Axes>"
      ]
     },
     "metadata": {},
     "output_type": "display_data"
    }
   ],
   "source": [
    "### Plot IBD sharing for different Length Bins\n",
    "\n",
    "\n",
    "n_bins=8\n",
    "min_ibd_length=600 # Min Block Length in kb\n",
    "max_dist = 3500 # Maximum Pairwise Distance [in Meter]\n",
    "\n",
    "block_categories = [500, 700, 900, 1100] # Block boundaries [in kB]!\n",
    "coords0 = coords[[\"Easting\",\"Northing\"]].values # Extract Numpy array\n",
    "\n",
    "def calculate_mean_sharing(min_len, max_len, ibd_data, positions, max_dist, bins=10):\n",
    "    '''Calculate the mean sharing in block length bins\n",
    "    positions: nx2 data, n ... nr Individuals\n",
    "    ibd_data: Pandas Data Table of ibd-block sharing\n",
    "    \n",
    "    Return: \n",
    "    Mean distance per bin, \n",
    "    fraction of sharing in Bin\n",
    "    Error Fraction (Poisson Assumption)\n",
    "    '''\n",
    "    ibd_data_0 = ibd_data[(ibd_data[\"IBDlen\"] > min_len*1000) & (ibd_data[\"IBDlen\"] < max_len*1000)]\n",
    "    nr_blocks0 = len(ibd_data_0)\n",
    "    print(\"Analyze %i of total %i blocks\" % (nr_blocks0, len(ibd_data)))\n",
    "    \n",
    "    # Do the binning:\n",
    "    counts, bins = np.histogram(ibd_data_0[\"pw_dist\"], range=[-0.01, max_dist], bins=n_bins)  # @UnusedVariable\n",
    "\n",
    "    # Find proper normalization factors:\n",
    "    distance_bins = np.zeros(len(bins) - 1)  # Create bins for every element in List; len(bins)=len(counts)+1\n",
    "    bins[-1] += 0.000001  # Hack to make sure that the distance exactly matching the max are counted\n",
    "    #         for i in self.start_list[1:]:  # Calculate distance to the first element in start_list for all elements to get proxy for number of comparisons\n",
    "    #             dist = torus_distance(i[0], i[1], self.start_list[0][0], self.start_list[0][1], self.gridsize)\n",
    "    #                 \n",
    "    #             j = bisect.bisect_right(bins, dist)\n",
    "    #             if j < len(bins) and j > 0:  # So it actually falls into somewhere\n",
    "    #                 distance_bins[j - 1] += 1\n",
    "\n",
    "    \n",
    "    nr_inds0 = len(positions)\n",
    "\n",
    "    # Calculate Distance for every possible pair to get proper normalization factor:\n",
    "    for (x, y) in itertools.combinations(np.arange(nr_inds0), r=2):\n",
    "        coords1= positions[x,:]\n",
    "        coords2= positions[y,:]\n",
    "        dist=pw_distance(coords1, coords2)\n",
    "\n",
    "        # Add pairwise distance to the right bin:\n",
    "        j = bisect.bisect_right(bins, dist)\n",
    "        if j < len(bins) and j > 0:  # So it actually falls into somewhere\n",
    "            distance_bins[j - 1] += 1\n",
    "\n",
    "    # distance_mean, _, _ = binned_statistic(ibd_data_0[\"pw_dist\"], ibd_data_0[\"pw_dist\"], bins=n_bins, statistic='mean')  # Calculate mean distances for distance bins\n",
    "    distance_mean=(bins[1:]+bins[:-1])/2.0\n",
    "\n",
    "    distance_mean = distance_mean[counts != 0]  # Remove bins with no values / MAYBE UPDATE?\n",
    "    distance_bins = distance_bins[counts != 0]\n",
    "    counts = counts[counts != 0]\n",
    "    distance_mean[distance_mean == 0] = 0.001  # In deme case, to account for possibility of bins with dist=0    \n",
    "\n",
    "    # Poisson-Error:\n",
    "    error = np.sqrt(counts)\n",
    "    ibd_frac = [counts[i] / distance_bins[i] for i in range(0, len(counts))]\n",
    "    ibd_error = [error[i] / distance_bins[i] for i in range(0, len(counts))]  # STD\n",
    "    \n",
    "    return [distance_mean, ibd_frac, ibd_error, nr_blocks0]\n",
    "\n",
    "\n",
    "\n",
    "### Do the Analysis:\n",
    "res = []  # Container for the Results\n",
    "\n",
    "for k in xrange(len(block_categories)-1):\n",
    "    temp_res = calculate_mean_sharing(block_categories[k],block_categories[k+1], ibd_data, coords0, max_dist)\n",
    "    res.append(temp_res)\n",
    "\n",
    "\n",
    "### Plot the results:\n",
    "plt.figure(figsize=(10,10))\n",
    "plt.yscale('log')\n",
    "\n",
    "colors=[\"Yellow\", \"Orange\", \"FireBrick\"]\n",
    "for i in xrange(len(res)):\n",
    "    distance_mean, ibd_frac, ibd_error, nr_blocks0 = res[i]\n",
    "    label = \"%.0f - %.0f kb: %i IBD blocks\" % (block_categories[i], block_categories[i+1], nr_blocks0)\n",
    "    plt.errorbar(distance_mean, ibd_frac, ibd_error, marker='o', label=label, markersize=12,\n",
    "                 linewidth=2, color=colors[i])\n",
    "#plt.semilogy(x_plot, bessel_decay(x_plot, C1, r1), 'r-.', label=\"Fitted Bessel decay\", linewidth=2)  # Plot of exact fit\n",
    "plt.xlabel('Pw. Distance [m]', fontsize=25)\n",
    "plt.ylabel('Shared IBD blocks per pair', fontsize=25)\n",
    "plt.tick_params(axis='x', labelsize=15)\n",
    "plt.tick_params(axis='y', labelsize=15)\n",
    "plt.legend(prop={'size':18})\n",
    "plt.title(\"Decay of IBD sharing\", fontsize=25)\n",
    "\n",
    "# Show simga\n",
    "#plt.annotate(r'$\\bar{\\sigma}=%.4G \\pm %.2G$' % (sigma_estimate1, sigma_std1) , xy=(0.1, 0.12), xycoords='axes fraction', fontsize=30)\n",
    "plt.show()"
   ]
  },
  {
   "cell_type": "code",
   "execution_count": 15,
   "metadata": {},
   "outputs": [
    {
     "data": {
      "image/png": "[encoded data removed]",
      "text/plain": [
       "<Figure size 432x288 with 1 Axes>"
      ]
     },
     "metadata": {},
     "output_type": "display_data"
    },
    {
     "data": {
      "image/png": "[encoded data removed]",
      "text/plain": [
       "<Figure size 432x288 with 1 Axes>"
      ]
     },
     "metadata": {},
     "output_type": "display_data"
    },
    {
     "data": {
      "image/png": "[encoded data removed]",
      "text/plain": [
       "<Figure size 720x720 with 1 Axes>"
      ]
     },
     "metadata": {},
     "output_type": "display_data"
    },
    {
     "name": "stdout",
     "output_type": "stream",
     "text": [
      "Nr of IBD blocks longer than 1000 kb: 46\n"
     ]
    }
   ],
   "source": [
    "# Do Histogram of Block lenthgs:\n",
    "plt.figure()\n",
    "plt.hist(ibd_data[\"IBDlen\"]/1000.0, bins=200)\n",
    "plt.xlabel(\"IBD Length [kb]\")\n",
    "plt.ylabel(\"Count\")\n",
    "plt.show()\n",
    "\n",
    "plt.figure()\n",
    "plt.hist(ibd_data[\"IBDlen\"]/1000.0, bins=50, range=(1000,2000))\n",
    "plt.xlabel(\"IBD Length [kb]\")\n",
    "plt.ylabel(\"Count\")\n",
    "plt.show()\n",
    "\n",
    "# Plot IBD block length against LOD score:\n",
    "\n",
    "plt.figure(figsize=(10,10))\n",
    "plt.plot(ibd_data[\"IBDlen\"]/1000.0,ibd_data[\"Lod\"],'ro', alpha=0.8)\n",
    "plt.xlabel(\"IBDlen [kb]\", fontsize=14)\n",
    "plt.ylabel(\"Lod-Score\", fontsize=14)\n",
    "plt.show()\n",
    "\n",
    "threshold=1000 \n",
    "nr = np.sum(ibd_data[\"IBDlen\"]/1000.0 > threshold)\n",
    "print(\"Nr of IBD blocks longer than %i kb: %i\" % (threshold, nr))"
   ]
  },
  {
   "cell_type": "markdown",
   "metadata": {},
   "source": [
    "## Some are 51 stuff:\n",
    "Area 51: I test code junks."
   ]
  },
  {
   "cell_type": "markdown",
   "metadata": {},
   "source": [
    "$$ P(A \\mid B) = \\frac{P(B \\mid A) \\, P(A)}{P(B)} $$"
   ]
  },
  {
   "cell_type": "code",
   "execution_count": 22,
   "metadata": {},
   "outputs": [
    {
     "data": {
      "image/png": "[encoded data removed]",
      "text/plain": [
       "<Figure size 720x720 with 1 Axes>"
      ]
     },
     "metadata": {},
     "output_type": "display_data"
    }
   ],
   "source": [
    "a=np.random.random(10000)\n",
    "b=2*np.random.random(10000)\n",
    "\n",
    "plt.figure(figsize=(10,10))\n",
    "plt.hist(a, bins=100, alpha=0.5)\n",
    "plt.hist(b, bins=200, alpha=0.5)\n",
    "plt.ylabel(\"Counts\")\n",
    "plt.xlabel(\"Bin Size\")\n",
    "plt.show()"
   ]
  },
  {
   "cell_type": "code",
   "execution_count": 25,
   "metadata": {},
   "outputs": [
    {
     "data": {
      "text/plain": [
       "array([ 0.,  1.,  2.,  3.,  4.,  5.,  6.,  7.,  8.,  9., 10.])"
      ]
     },
     "execution_count": 25,
     "metadata": {},
     "output_type": "execute_result"
    }
   ],
   "source": [
    "np.linspace(0, 10, num=11)"
   ]
  },
  {
   "cell_type": "code",
   "execution_count": null,
   "metadata": {},
   "outputs": [],
   "source": []
  }
 ],
 "metadata": {
  "kernelspec": {
   "display_name": "Python 2",
   "language": "python",
   "name": "python2"
  },
  "language_info": {
   "codemirror_mode": {
    "name": "ipython",
    "version": 2
   },
   "file_extension": ".py",
   "mimetype": "text/x-python",
   "name": "python",
   "nbconvert_exporter": "python",
   "pygments_lexer": "ipython2",
   "version": "2.7.14"
  }
 },
 "nbformat": 4,
 "nbformat_minor": 2
}
