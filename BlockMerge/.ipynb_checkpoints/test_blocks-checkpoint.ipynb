{
 "cells": [
  {
   "cell_type": "markdown",
   "metadata": {},
   "source": [
    "# Notebook to test IBD blocks.\n",
    "Load IBD block data and looks at distribution in gaps between them"
   ]
  },
  {
   "cell_type": "code",
   "execution_count": 1,
   "metadata": {},
   "outputs": [],
   "source": [
    "import numpy as np\n",
    "import pandas as pd\n",
    "import matplotlib.pyplot as plt\n",
    "import cPickle as pickle\n",
    "import itertools\n",
    "import bisect"
   ]
  },
  {
   "cell_type": "code",
   "execution_count": 2,
   "metadata": {},
   "outputs": [
    {
     "name": "stdout",
     "output_type": "stream",
     "text": [
      "Successfully loaded.\n",
      "Nr of Blocks: 133763\n",
      "Nr of Blocks > 500 kb: 7569 \n",
      "Nr of Blocks > 1 mb: 807 \n"
     ]
    }
   ],
   "source": [
    "### Load the Data\n",
    "\n",
    "# Define where to find the files and load them:\n",
    "ibd_file_path = \"./MailJan2018/CBchrRevSingle.ibd30.ibd\"  # Where to find the IBD List\n",
    "merge_file = \"./merged.csv\"  # Where the merged blocks are saved to!\n",
    "merge_list_path = \"./gaplist.p\"\n",
    "\n",
    "# Load the IBD data\n",
    "ibd_data = pd.read_csv(ibd_file_path, sep=\"\\t\", header=None)\n",
    "columns = [\"Ind1\", \"HapIndex1\", \"Ind2\", \"HapIndex2\",\"Scaffold\", \"IBDStart\", \"IBDEnd\", \"Lod\", \"IBDlen\"] \n",
    "ibd_data.columns = columns\n",
    "print(\"Successfully loaded.\")\n",
    "print(\"Nr of Blocks: %i\" % len(ibd_data))\n",
    "print(\"Nr of Blocks > 500 kb: %i \" % len(ibd_data[ibd_data.IBDlen>500000]))\n",
    "print(\"Nr of Blocks > 1 mb: %i \" % len(ibd_data[ibd_data.IBDlen>1000000]))"
   ]
  },
  {
   "cell_type": "code",
   "execution_count": 3,
   "metadata": {},
   "outputs": [
    {
     "name": "stdout",
     "output_type": "stream",
     "text": [
      "Total Number of Blocks: 133763\n"
     ]
    },
    {
     "name": "stderr",
     "output_type": "stream",
     "text": [
      "c:\\python27\\lib\\site-packages\\pandas\\core\\generic.py:3643: SettingWithCopyWarning: \n",
      "A value is trying to be set on a copy of a slice from a DataFrame\n",
      "\n",
      "See the caveats in the documentation: http://pandas.pydata.org/pandas-docs/stable/indexing.html#indexing-view-versus-copy\n",
      "  self[name] = value\n"
     ]
    },
    {
     "name": "stdout",
     "output_type": "stream",
     "text": [
      "Doing Block Nr. 100\n",
      "Doing Block Nr. 200\n",
      "Doing Block Nr. 300\n",
      "Doing Block Nr. 400\n",
      "Doing Block Nr. 500\n",
      "Doing Block Nr. 600\n",
      "Doing Block Nr. 700\n",
      "Doing Block Nr. 800\n",
      "Doing Block Nr. 900\n",
      "Doing Block Nr. 1000\n"
     ]
    }
   ],
   "source": [
    "# Merge overlapping blocks, and count mergin events\n",
    "# Merge all blocks with gaps shorter than at least one of the blocks\n",
    "# and at most 1 mB\n",
    "\n",
    "max_gap_length = 1000000  # Maximum Length of Gaps to merge\n",
    "\n",
    "# Make a new data table:\n",
    "df_m = pd.DataFrame(columns=columns) # Merged Data Frame\n",
    "\n",
    "gap_list = []   # Distribution of Gaps to be filled. List of lists\n",
    "gaps = []       # Current Gaps\n",
    "\n",
    "ind1, ind2 = ibd_data.Ind1[0], ibd_data.Ind2[0]\n",
    "ibd_start, ibd_end   = ibd_data.IBDStart[0], ibd_data.IBDEnd[0]\n",
    "\n",
    "print(\"Total Number of Blocks: %i\" % len(ibd_data))\n",
    "\n",
    "ibd_data = ibd_data.loc[:1000] # For testing purposes\n",
    "\n",
    "for i in xrange(1, len(ibd_data)):  # \n",
    "    if i % 100 == 0:\n",
    "        print(\"Doing Block Nr. %i\" % i)\n",
    "        \n",
    "    if (ibd_data.Ind1[i] != ind1)  or (ibd_data.Ind2[i] != ind2):\n",
    "        # Different Block\n",
    "        # Append IBD block to list\n",
    "        gap_list.append(gaps)\n",
    "        gaps = []\n",
    "        \n",
    "        new_row = ibd_data.loc[i-1] # Load the last row\n",
    "        new_row.IBDStart = ibd_start\n",
    "        new_row.IBDlen = new_row.IBDEnd - new_row.IBDStart\n",
    "        df_m.loc[len(df_m)] =new_row\n",
    "        \n",
    "        # Switch to new Individual\n",
    "        ind1, ind2 = ibd_data.Ind1[i], ibd_data.Ind2[i]\n",
    "        ibd_start, ibd_end = ibd_data.IBDStart[i], ibd_data.IBDEnd[i]\n",
    "         \n",
    "    else:\n",
    "        # Same Individuals\n",
    "        block_length1 = ibd_end - ibd_start # Length of old block\n",
    "        block_length2 =  ibd_data.IBDEnd[i] - ibd_data.IBDStart[i] # Length of new block\n",
    "        gap = ibd_data.IBDStart[i]-ibd_end \n",
    "        max_length = max(block_length1, block_length2)\n",
    "        \n",
    "        big_gap = (gap <= max_length) and gap < max_gap_length\n",
    "        \n",
    "        if big_gap:\n",
    "            # Merging gap\n",
    "            gaps.append(gap)\n",
    "            ibd_end = ibd_data.IBDEnd[i]\n",
    "        \n",
    "        else:\n",
    "            # Gap too big, different blocks\n",
    "            # Append to\n",
    "            gap_list.append(gaps)\n",
    "            gaps = []\n",
    "            \n",
    "            new_row = ibd_data.loc[i-1] # Load the last row\n",
    "            new_row.IBDStart = ibd_start\n",
    "            new_row.IBDlen = new_row.IBDEnd - new_row.IBDStart\n",
    "            df_m.loc[len(df_m)] = new_row\n",
    "            \n",
    "            # Switch to new Individual\n",
    "            ind1, ind2 = ibd_data.Ind1[i], ibd_data.Ind2[i]\n",
    "            ibd_start, ibd_end = ibd_data.IBDStart[i], ibd_data.IBDEnd[i]\n",
    "\n",
    "# Add the last element of IBD Block List:\n",
    "new_row = ibd_data.iloc[-1] # Load the last row\n",
    "new_row.IBDStart = ibd_start\n",
    "new_row.IBDlen = new_row.IBDEnd - new_row.IBDStart\n",
    "df_m.loc[len(df_m)] =new_row\n",
    "gap_list.append(gaps)\n",
    "\n",
    "# Save the merged blocks:\n",
    "df_m.to_csv(merge_file, index=False)  # Save the Data Frame\n",
    "pickle.dump(merge_list_path, open( \"save.p\", \"wb\" ) )  # Save the merged List"
   ]
  },
  {
   "cell_type": "code",
   "execution_count": null,
   "metadata": {},
   "outputs": [],
   "source": []
  },
  {
   "cell_type": "markdown",
   "metadata": {},
   "source": [
    "## Do Analysis of merged blocks\n",
    "Load blocks from before"
   ]
  },
  {
   "cell_type": "code",
   "execution_count": null,
   "metadata": {},
   "outputs": [],
   "source": [
    "df_m="
   ]
  },
  {
   "cell_type": "markdown",
   "metadata": {},
   "source": [
    "## Area 51"
   ]
  },
  {
   "cell_type": "code",
   "execution_count": null,
   "metadata": {},
   "outputs": [],
   "source": [
    "test = pd.DataFrame(columns=columns)\n",
    "test.loc[len(test)] = [0, 0, 0, 0, 0, 0, 0 ,0, \"test\"]\n",
    "new_row = test.loc[0]\n",
    "new_row.Ind1 = \"lul\"\n",
    "new_row.Ind2 = \"lul_sqr\"\n",
    "new_row"
   ]
  },
  {
   "cell_type": "code",
   "execution_count": null,
   "metadata": {},
   "outputs": [],
   "source": [
    "ibd_data.iloc[-1]"
   ]
  },
  {
   "cell_type": "code",
   "execution_count": null,
   "metadata": {},
   "outputs": [],
   "source": []
  }
 ],
 "metadata": {
  "kernelspec": {
   "display_name": "Python 2",
   "language": "python",
   "name": "python2"
  },
  "language_info": {
   "codemirror_mode": {
    "name": "ipython",
    "version": 2
   },
   "file_extension": ".py",
   "mimetype": "text/x-python",
   "name": "python",
   "nbconvert_exporter": "python",
   "pygments_lexer": "ipython2",
   "version": "2.7.14"
  }
 },
 "nbformat": 4,
 "nbformat_minor": 2
}
