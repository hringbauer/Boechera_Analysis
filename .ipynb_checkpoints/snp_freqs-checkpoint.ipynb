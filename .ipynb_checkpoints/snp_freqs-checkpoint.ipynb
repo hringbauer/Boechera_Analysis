{
 "cells": [
  {
   "cell_type": "markdown",
   "metadata": {},
   "source": [
    "# Script to analyze whole SNP-data"
   ]
  },
  {
   "cell_type": "code",
   "execution_count": 3,
   "metadata": {
    "collapsed": true
   },
   "outputs": [],
   "source": [
    "import numpy as np\n",
    "import pandas as pd\n",
    "import matplotlib.pyplot as plt"
   ]
  },
  {
   "cell_type": "code",
   "execution_count": 17,
   "metadata": {
    "collapsed": false
   },
   "outputs": [
    {
     "name": "stdout",
     "output_type": "stream",
     "text": [
      "Loading...\n",
      "Finished loading. Markers: 237013\n",
      "Nr. of Individuals: 108\n"
     ]
    },
    {
     "data": {
      "text/html": [
       "<div>\n",
       "<table border=\"1\" class=\"dataframe\">\n",
       "  <thead>\n",
       "    <tr style=\"text-align: right;\">\n",
       "      <th></th>\n",
       "      <th>#CHROM</th>\n",
       "      <th>POS</th>\n",
       "      <th>REF</th>\n",
       "      <th>ALT</th>\n",
       "      <th>CB001</th>\n",
       "      <th>CB047</th>\n",
       "      <th>RP290</th>\n",
       "      <th>CB061</th>\n",
       "      <th>CB063</th>\n",
       "      <th>CB068</th>\n",
       "      <th>...</th>\n",
       "      <th>CB412</th>\n",
       "      <th>CB414</th>\n",
       "      <th>CB416</th>\n",
       "      <th>CB417</th>\n",
       "      <th>CB418</th>\n",
       "      <th>CB475</th>\n",
       "      <th>CB477</th>\n",
       "      <th>CB478</th>\n",
       "      <th>CB479</th>\n",
       "      <th>CB480</th>\n",
       "    </tr>\n",
       "  </thead>\n",
       "  <tbody>\n",
       "    <tr>\n",
       "      <th>0</th>\n",
       "      <td>Scaffold10021</td>\n",
       "      <td>70637</td>\n",
       "      <td>C</td>\n",
       "      <td>A</td>\n",
       "      <td>0</td>\n",
       "      <td>0</td>\n",
       "      <td>0</td>\n",
       "      <td>0</td>\n",
       "      <td>0</td>\n",
       "      <td>0</td>\n",
       "      <td>...</td>\n",
       "      <td>0</td>\n",
       "      <td>0</td>\n",
       "      <td>0</td>\n",
       "      <td>0</td>\n",
       "      <td>0</td>\n",
       "      <td>0</td>\n",
       "      <td>0</td>\n",
       "      <td>0</td>\n",
       "      <td>0</td>\n",
       "      <td>0</td>\n",
       "    </tr>\n",
       "    <tr>\n",
       "      <th>1</th>\n",
       "      <td>Scaffold10021</td>\n",
       "      <td>70641</td>\n",
       "      <td>A</td>\n",
       "      <td>T</td>\n",
       "      <td>0</td>\n",
       "      <td>0</td>\n",
       "      <td>0</td>\n",
       "      <td>0</td>\n",
       "      <td>0</td>\n",
       "      <td>0</td>\n",
       "      <td>...</td>\n",
       "      <td>0</td>\n",
       "      <td>0</td>\n",
       "      <td>0</td>\n",
       "      <td>0</td>\n",
       "      <td>0</td>\n",
       "      <td>0</td>\n",
       "      <td>0</td>\n",
       "      <td>0</td>\n",
       "      <td>0</td>\n",
       "      <td>0</td>\n",
       "    </tr>\n",
       "  </tbody>\n",
       "</table>\n",
       "<p>2 rows × 112 columns</p>\n",
       "</div>"
      ],
      "text/plain": [
       "          #CHROM    POS REF ALT  CB001  CB047  RP290  CB061  CB063  CB068  \\\n",
       "0  Scaffold10021  70637   C   A      0      0      0      0      0      0   \n",
       "1  Scaffold10021  70641   A   T      0      0      0      0      0      0   \n",
       "\n",
       "   ...    CB412  CB414  CB416  CB417  CB418  CB475  CB477  CB478  CB479  CB480  \n",
       "0  ...        0      0      0      0      0      0      0      0      0      0  \n",
       "1  ...        0      0      0      0      0      0      0      0      0      0  \n",
       "\n",
       "[2 rows x 112 columns]"
      ]
     },
     "execution_count": 17,
     "metadata": {},
     "output_type": "execute_result"
    }
   ],
   "source": [
    "### Load the Data\n",
    "data_path = \"Data/CB108.impute.geno.gz\"\n",
    "\n",
    "print(\"Loading...\")\n",
    "df = pd.read_csv(data_path, compression='gzip', sep=\"\\t\")\n",
    "print(\"Finished loading. Markers: %i\" % len(df))\n",
    "print(\"Nr. of Individuals: %i\" % (df.shape[1]-4))\n",
    "df.head(2)"
   ]
  },
  {
   "cell_type": "markdown",
   "metadata": {},
   "source": [
    "## Do some preliminary Analysis:"
   ]
  },
  {
   "cell_type": "code",
   "execution_count": 21,
   "metadata": {
    "collapsed": false
   },
   "outputs": [
    {
     "data": {
      "text/html": [
       "<div>\n",
       "<table border=\"1\" class=\"dataframe\">\n",
       "  <thead>\n",
       "    <tr style=\"text-align: right;\">\n",
       "      <th></th>\n",
       "      <th>CB001</th>\n",
       "      <th>CB047</th>\n",
       "      <th>RP290</th>\n",
       "      <th>CB061</th>\n",
       "      <th>CB063</th>\n",
       "      <th>CB068</th>\n",
       "      <th>CB073</th>\n",
       "      <th>CB074</th>\n",
       "      <th>CB075</th>\n",
       "      <th>CB077</th>\n",
       "      <th>...</th>\n",
       "      <th>CB412</th>\n",
       "      <th>CB414</th>\n",
       "      <th>CB416</th>\n",
       "      <th>CB417</th>\n",
       "      <th>CB418</th>\n",
       "      <th>CB475</th>\n",
       "      <th>CB477</th>\n",
       "      <th>CB478</th>\n",
       "      <th>CB479</th>\n",
       "      <th>CB480</th>\n",
       "    </tr>\n",
       "  </thead>\n",
       "  <tbody>\n",
       "    <tr>\n",
       "      <th>0</th>\n",
       "      <td>0</td>\n",
       "      <td>0</td>\n",
       "      <td>0</td>\n",
       "      <td>0</td>\n",
       "      <td>0</td>\n",
       "      <td>0</td>\n",
       "      <td>0</td>\n",
       "      <td>0</td>\n",
       "      <td>0</td>\n",
       "      <td>0</td>\n",
       "      <td>...</td>\n",
       "      <td>0</td>\n",
       "      <td>0</td>\n",
       "      <td>0</td>\n",
       "      <td>0</td>\n",
       "      <td>0</td>\n",
       "      <td>0</td>\n",
       "      <td>0</td>\n",
       "      <td>0</td>\n",
       "      <td>0</td>\n",
       "      <td>0</td>\n",
       "    </tr>\n",
       "    <tr>\n",
       "      <th>1</th>\n",
       "      <td>0</td>\n",
       "      <td>0</td>\n",
       "      <td>0</td>\n",
       "      <td>0</td>\n",
       "      <td>0</td>\n",
       "      <td>0</td>\n",
       "      <td>0</td>\n",
       "      <td>0</td>\n",
       "      <td>0</td>\n",
       "      <td>0</td>\n",
       "      <td>...</td>\n",
       "      <td>0</td>\n",
       "      <td>0</td>\n",
       "      <td>0</td>\n",
       "      <td>0</td>\n",
       "      <td>0</td>\n",
       "      <td>0</td>\n",
       "      <td>0</td>\n",
       "      <td>0</td>\n",
       "      <td>0</td>\n",
       "      <td>0</td>\n",
       "    </tr>\n",
       "    <tr>\n",
       "      <th>2</th>\n",
       "      <td>0</td>\n",
       "      <td>0</td>\n",
       "      <td>0</td>\n",
       "      <td>0</td>\n",
       "      <td>0</td>\n",
       "      <td>0</td>\n",
       "      <td>0</td>\n",
       "      <td>0</td>\n",
       "      <td>0</td>\n",
       "      <td>0</td>\n",
       "      <td>...</td>\n",
       "      <td>0</td>\n",
       "      <td>0</td>\n",
       "      <td>0</td>\n",
       "      <td>0</td>\n",
       "      <td>0</td>\n",
       "      <td>0</td>\n",
       "      <td>0</td>\n",
       "      <td>0</td>\n",
       "      <td>0</td>\n",
       "      <td>0</td>\n",
       "    </tr>\n",
       "  </tbody>\n",
       "</table>\n",
       "<p>3 rows × 108 columns</p>\n",
       "</div>"
      ],
      "text/plain": [
       "   CB001  CB047  RP290  CB061  CB063  CB068  CB073  CB074  CB075  CB077  \\\n",
       "0      0      0      0      0      0      0      0      0      0      0   \n",
       "1      0      0      0      0      0      0      0      0      0      0   \n",
       "2      0      0      0      0      0      0      0      0      0      0   \n",
       "\n",
       "   ...    CB412  CB414  CB416  CB417  CB418  CB475  CB477  CB478  CB479  CB480  \n",
       "0  ...        0      0      0      0      0      0      0      0      0      0  \n",
       "1  ...        0      0      0      0      0      0      0      0      0      0  \n",
       "2  ...        0      0      0      0      0      0      0      0      0      0  \n",
       "\n",
       "[3 rows x 108 columns]"
      ]
     },
     "execution_count": 21,
     "metadata": {},
     "output_type": "execute_result"
    }
   ],
   "source": [
    "# Extract the SNP Matrix:\n",
    "snp_df = df.iloc[:,4:]\n",
    "snp_df.head(3)"
   ]
  },
  {
   "cell_type": "code",
   "execution_count": 39,
   "metadata": {
    "collapsed": false
   },
   "outputs": [
    {
     "data": {
      "image/png": "[encoded data removed]",
      "text/plain": [
       "<matplotlib.figure.Figure at 0x7fb62c738110>"
      ]
     },
     "metadata": {},
     "output_type": "display_data"
    },
    {
     "name": "stdout",
     "output_type": "stream",
     "text": [
      "SNPs of frequency 0.2-0.8: 37421 out of 237013\n"
     ]
    }
   ],
   "source": [
    "# Plot allele frequency spectrum:\n",
    "p_means = np.mean(snp_df/2.0,axis=1)\n",
    "\n",
    "plt.figure(figsize=(14,8))\n",
    "plt.hist(p_means,bins=100)\n",
    "plt.title(\"Allele Frequencies\", fontsize=24)\n",
    "plt.ylabel(\"Count\", fontsize=18)\n",
    "plt.show()\n",
    "\n",
    "p_means_intermediate = p_means[(0.2<p_means.values) & (p_means.values<0.8)]\n",
    "print(\"SNPs of frequency 0.2-0.8: %i out of %i\" % (len(p_means_intermediate),len(p_means)))"
   ]
  },
  {
   "cell_type": "code",
   "execution_count": 64,
   "metadata": {
    "collapsed": false
   },
   "outputs": [
    {
     "data": {
      "image/png": "[encoded data removed]",
      "text/plain": [
       "<matplotlib.figure.Figure at 0x7fb62c916650>"
      ]
     },
     "metadata": {},
     "output_type": "display_data"
    }
   ],
   "source": [
    "# Look into heterozygosity:\n",
    "\n",
    "# Look into empirical Heterozygosity:\n",
    "htz = np.mean(snp_df==1,axis=1)     # Calculate the empirical heterozygosity\n",
    "exp_htz = 2.0*p_means*(1-p_means)     # Calculate the expected heterozygosity\n",
    "\n",
    "snp_df.iloc[121259,:]\n",
    "plt.figure()\n",
    "plt.hist(snp_df.iloc[121259,:])\n",
    "plt.show()"
   ]
  },
  {
   "cell_type": "markdown",
   "metadata": {},
   "source": [
    "## Some Area 51 stuff:"
   ]
  },
  {
   "cell_type": "code",
   "execution_count": null,
   "metadata": {
    "collapsed": false
   },
   "outputs": [],
   "source": []
  },
  {
   "cell_type": "code",
   "execution_count": 16,
   "metadata": {
    "collapsed": false
   },
   "outputs": [
    {
     "name": "stdout",
     "output_type": "stream",
     "text": [
      "Loading...\n",
      "Finished loading. Markers: 237013\n",
      "Nr. of Individuals: 108\n"
     ]
    },
    {
     "data": {
      "text/html": [
       "<div>\n",
       "<table border=\"1\" class=\"dataframe\">\n",
       "  <thead>\n",
       "    <tr style=\"text-align: right;\">\n",
       "      <th></th>\n",
       "      <th>#CHROM</th>\n",
       "      <th>POS</th>\n",
       "      <th>REF</th>\n",
       "      <th>ALT</th>\n",
       "      <th>CB001</th>\n",
       "      <th>CB047</th>\n",
       "      <th>RP290</th>\n",
       "      <th>CB061</th>\n",
       "      <th>CB063</th>\n",
       "      <th>CB068</th>\n",
       "      <th>...</th>\n",
       "      <th>CB412</th>\n",
       "      <th>CB414</th>\n",
       "      <th>CB416</th>\n",
       "      <th>CB417</th>\n",
       "      <th>CB418</th>\n",
       "      <th>CB475</th>\n",
       "      <th>CB477</th>\n",
       "      <th>CB478</th>\n",
       "      <th>CB479</th>\n",
       "      <th>CB480</th>\n",
       "    </tr>\n",
       "  </thead>\n",
       "  <tbody>\n",
       "    <tr>\n",
       "      <th>0</th>\n",
       "      <td>Scaffold10021</td>\n",
       "      <td>70637</td>\n",
       "      <td>C</td>\n",
       "      <td>A</td>\n",
       "      <td>0</td>\n",
       "      <td>0</td>\n",
       "      <td>0</td>\n",
       "      <td>0</td>\n",
       "      <td>0</td>\n",
       "      <td>0</td>\n",
       "      <td>...</td>\n",
       "      <td>0</td>\n",
       "      <td>0</td>\n",
       "      <td>0</td>\n",
       "      <td>0</td>\n",
       "      <td>0</td>\n",
       "      <td>0</td>\n",
       "      <td>0</td>\n",
       "      <td>0</td>\n",
       "      <td>0</td>\n",
       "      <td>0</td>\n",
       "    </tr>\n",
       "    <tr>\n",
       "      <th>1</th>\n",
       "      <td>Scaffold10021</td>\n",
       "      <td>70641</td>\n",
       "      <td>A</td>\n",
       "      <td>T</td>\n",
       "      <td>0</td>\n",
       "      <td>0</td>\n",
       "      <td>0</td>\n",
       "      <td>0</td>\n",
       "      <td>0</td>\n",
       "      <td>0</td>\n",
       "      <td>...</td>\n",
       "      <td>0</td>\n",
       "      <td>0</td>\n",
       "      <td>0</td>\n",
       "      <td>0</td>\n",
       "      <td>0</td>\n",
       "      <td>0</td>\n",
       "      <td>0</td>\n",
       "      <td>0</td>\n",
       "      <td>0</td>\n",
       "      <td>0</td>\n",
       "    </tr>\n",
       "  </tbody>\n",
       "</table>\n",
       "<p>2 rows × 112 columns</p>\n",
       "</div>"
      ],
      "text/plain": [
       "          #CHROM    POS REF ALT  CB001  CB047  RP290  CB061  CB063  CB068  \\\n",
       "0  Scaffold10021  70637   C   A      0      0      0      0      0      0   \n",
       "1  Scaffold10021  70641   A   T      0      0      0      0      0      0   \n",
       "\n",
       "   ...    CB412  CB414  CB416  CB417  CB418  CB475  CB477  CB478  CB479  CB480  \n",
       "0  ...        0      0      0      0      0      0      0      0      0      0  \n",
       "1  ...        0      0      0      0      0      0      0      0      0      0  \n",
       "\n",
       "[2 rows x 112 columns]"
      ]
     },
     "execution_count": 16,
     "metadata": {},
     "output_type": "execute_result"
    }
   ],
   "source": []
  },
  {
   "cell_type": "code",
   "execution_count": null,
   "metadata": {
    "collapsed": true
   },
   "outputs": [],
   "source": []
  }
 ],
 "metadata": {
  "kernelspec": {
   "display_name": "Python 2",
   "language": "python",
   "name": "python2"
  },
  "language_info": {
   "codemirror_mode": {
    "name": "ipython",
    "version": 2
   },
   "file_extension": ".py",
   "mimetype": "text/x-python",
   "name": "python",
   "nbconvert_exporter": "python",
   "pygments_lexer": "ipython2",
   "version": "2.7.12"
  }
 },
 "nbformat": 4,
 "nbformat_minor": 2
}
